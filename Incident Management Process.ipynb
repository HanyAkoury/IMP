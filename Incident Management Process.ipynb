{
 "cells": [
  {
   "cell_type": "markdown",
   "metadata": {},
   "source": [
    "### Data and Imports"
   ]
  },
  {
   "cell_type": "code",
   "execution_count": 1,
   "metadata": {},
   "outputs": [
    {
     "data": {
      "text/html": [
       "<style>.container { width:70% !important; }</style>"
      ],
      "text/plain": [
       "<IPython.core.display.HTML object>"
      ]
     },
     "metadata": {},
     "output_type": "display_data"
    },
    {
     "name": "stdout",
     "output_type": "stream",
     "text": [
      "time: 309 µs\n"
     ]
    }
   ],
   "source": [
    "# Styling\n",
    "from IPython.core.display import display, HTML \n",
    "display(HTML(\"<style>.container { width:70% !important; }</style>\"))\n",
    "\n",
    "# Data import\n",
    "import pandas as pd\n",
    "import numpy as np\n",
    "import warnings\n",
    "\n",
    "# Jupyter notebook settings\n",
    "%load_ext autotime\n",
    "warnings.filterwarnings('ignore')\n",
    "pd.set_option('display.max_columns', 40)"
   ]
  },
  {
   "cell_type": "markdown",
   "metadata": {},
   "source": [
    "### Data Preprocessing\n",
    "#### Feature Engineering"
   ]
  },
  {
   "cell_type": "code",
   "execution_count": 2,
   "metadata": {
    "scrolled": true
   },
   "outputs": [
    {
     "name": "stdout",
     "output_type": "stream",
     "text": [
      "time: 1.36 s\n"
     ]
    }
   ],
   "source": [
    "log = pd.read_csv('data/incident_event_log.csv',sep=',', index_col=0)\n",
    "\n",
    "# Il faut predire la durée residuelle on nettoie les colonnes consernées puis on crée wait\n",
    "# log.groupby('resolved_at').count() On remarque qu'il y a des ? dont il faut se debarasser\n",
    "# etoc = estimated time of completion\n",
    "log = log[log['resolved_at'] != '?']\n",
    "\n",
    "log['opened_at'] = pd.to_datetime(log['opened_at'], infer_datetime_format=True, errors='coerce')\n",
    "log['resolved_at'] = pd.to_datetime(log['resolved_at'], infer_datetime_format=True, errors='coerce')\n",
    "\n",
    "log['etoc']= (log['resolved_at']-log['opened_at'])\n",
    "log['etoc']= log['etoc'].dt.total_seconds()\n",
    "\n",
    "# Supression des dates, etoc est tout ce dont on a besoin\n",
    "log = log.drop(columns=['opened_at','closed_at','resolved_at', 'sys_created_at', 'sys_updated_at'])\n",
    "\n",
    "# Remplacer les ? par des Nan\n",
    "log = log.replace(to_replace =\"?\",value = np.nan)\n",
    "\n",
    "## Categorising\n",
    "# Priority\n",
    "log['priority'] = log['priority'].astype('category').cat.reorder_categories(['1 - Critical', \n",
    "                                                                             '2 - High', \n",
    "                                                                             '3 - Moderate', \n",
    "                                                                             '4 - Low'], ordered=False).cat.codes\n",
    "# Notify\n",
    "log['notify'] = log['notify'].map({'Do Not Notify': 0,'Send Email': 1})\n",
    "\n",
    "# Dropping empty nan columns\n",
    "# print log.isna().sum().sort_values(ascending=False)  Supprimer les valeurs trop grande puis les variables temporelles\n",
    "log = log.drop(['cmdb_ci', 'problem_id', 'rfc', 'vendor', 'caused_by'], axis=1)"
   ]
  },
  {
   "cell_type": "markdown",
   "metadata": {},
   "source": [
    "### Data Analysis\n",
    "#### Plotting and Charting"
   ]
  },
  {
   "cell_type": "code",
   "execution_count": 3,
   "metadata": {},
   "outputs": [
    {
     "data": {
      "image/png": "[encoded data removed]",
      "text/plain": [
       "<Figure size 720x576 with 2 Axes>"
      ]
     },
     "metadata": {
      "needs_background": "light"
     },
     "output_type": "display_data"
    },
    {
     "name": "stdout",
     "output_type": "stream",
     "text": [
      "time: 1.08 s\n"
     ]
    }
   ],
   "source": [
    "import matplotlib.pyplot as plt\n",
    "import matplotlib\n",
    "import seaborn as sns\n",
    "\n",
    "f, ax = plt.subplots(figsize=(10, 8))\n",
    "corr = log.corr()\n",
    "sns.heatmap(corr, mask=np.zeros_like(corr, dtype=np.bool), \n",
    "            cmap=(sns.diverging_palette(220, 20, as_cmap=True)),\n",
    "            square=True, ax=ax);"
   ]
  },
  {
   "cell_type": "markdown",
   "metadata": {},
   "source": [
    "#### Encoding Object Data"
   ]
  },
  {
   "cell_type": "code",
   "execution_count": 4,
   "metadata": {},
   "outputs": [
    {
     "name": "stdout",
     "output_type": "stream",
     "text": [
      "time: 400 ms\n"
     ]
    }
   ],
   "source": [
    "from sklearn import preprocessing\n",
    "\n",
    "for column in log.select_dtypes(include=['object']):\n",
    "    log[column] = pd.factorize(log[column])[0]\n",
    "    x = log[[column]].values.astype(float)\n",
    "    \n",
    "    # Scaling Object\n",
    "    min_max_scaler = preprocessing.MinMaxScaler()\n",
    "    x_scaled = min_max_scaler.fit_transform(x)\n",
    "    \n",
    "    # Run the normalizer on the dataframe\n",
    "    log[column]=x_scaled\n",
    "    \n",
    "#log.corr()    "
   ]
  },
  {
   "cell_type": "markdown",
   "metadata": {},
   "source": [
    "### Model preparation"
   ]
  },
  {
   "cell_type": "code",
   "execution_count": 5,
   "metadata": {},
   "outputs": [
    {
     "name": "stdout",
     "output_type": "stream",
     "text": [
      "time: 73.3 ms\n"
     ]
    }
   ],
   "source": [
    "from sklearn.model_selection import train_test_split\n",
    "\n",
    "X,y = log.drop(columns=['etoc']),log['etoc']\n",
    "X_train, X_test, y_train, y_test = train_test_split(X, y, test_size=0.22, random_state=18)"
   ]
  },
  {
   "cell_type": "markdown",
   "metadata": {},
   "source": [
    "#### Regressor"
   ]
  },
  {
   "cell_type": "code",
   "execution_count": 6,
   "metadata": {},
   "outputs": [
    {
     "name": "stdout",
     "output_type": "stream",
     "text": [
      "Score Lr 0.48\n",
      "RMSE  Lr in seconds: 1692410.18\n",
      "RMSE  Lr in days: 20.0\n",
      "time: 527 ms\n"
     ]
    }
   ],
   "source": [
    "from sklearn.linear_model import LinearRegression\n",
    "from sklearn.metrics import mean_squared_error\n",
    "from math import sqrt\n",
    "\n",
    "lr = LinearRegression()\n",
    "\n",
    "lr.fit(X_train,y_train)\n",
    "y_pred = lr.predict(X_test)\n",
    "\n",
    "print('Score Lr', round(lr.score(X_test, y_test),2))\n",
    "print('RMSE  Lr in seconds:',round(sqrt(mean_squared_error(y_test,y_pred)),2))\n",
    "print('RMSE  Lr in days:',round(sqrt(mean_squared_error(y_test,y_pred))/84600,2))"
   ]
  },
  {
   "cell_type": "markdown",
   "metadata": {},
   "source": [
    "#### Random Forest"
   ]
  },
  {
   "cell_type": "code",
   "execution_count": 7,
   "metadata": {},
   "outputs": [
    {
     "name": "stdout",
     "output_type": "stream",
     "text": [
      "Score RF 0.79\n",
      "RMSE  RF in seconds: 1078501.07\n",
      "RMSE  RF in days: 12.75\n",
      "time: 19.5 s\n"
     ]
    }
   ],
   "source": [
    "from sklearn.ensemble import RandomForestRegressor\n",
    "\n",
    "hyperparametres = { 'n_estimators':20 }\n",
    "rf_regressor = RandomForestRegressor(**hyperparametres, random_state=18)\n",
    "rf_regressor.fit(X_train,y_train)\n",
    "y_pred = rf_regressor.predict(X_test)\n",
    "\n",
    "print('Score RF', round(rf_regressor.score(X_test, y_test),2))\n",
    "print('RMSE  RF in seconds:',round(sqrt(mean_squared_error(y_test,y_pred)),2))\n",
    "print('RMSE  RF in days:',round(sqrt(mean_squared_error(y_test,y_pred))/84600,2))"
   ]
  },
  {
   "cell_type": "markdown",
   "metadata": {},
   "source": [
    "#### Grid Search - Random Forest"
   ]
  },
  {
   "cell_type": "code",
   "execution_count": 8,
   "metadata": {},
   "outputs": [
    {
     "name": "stdout",
     "output_type": "stream",
     "text": [
      "Score GRF 0.82\n",
      "RMSE  GRF in seconds: 984930.27\n",
      "RMSE  GRF in days: 11.64\n",
      "time: 9min 13s\n"
     ]
    }
   ],
   "source": [
    "from sklearn.model_selection import GridSearchCV\n",
    "\n",
    "estimator=RandomForestRegressor()\n",
    "param_gridsearch = { \n",
    "            \"n_estimators\"      : [7,15],\n",
    "            \"max_features\"      : [\"auto\", \"sqrt\", \"log2\"],\n",
    "            \"min_samples_split\" : [2,4],\n",
    "            \"bootstrap\": [True, False],\n",
    "            }\n",
    "\n",
    "grid_r2 = GridSearchCV(estimator, param_gridsearch, n_jobs=-1, cv=5)\n",
    "grid_mse = GridSearchCV(estimator, param_gridsearch, n_jobs=-1, cv=5, scoring='neg_root_mean_squared_error')\n",
    "\n",
    "grid_r2.fit(X_train, y_train)\n",
    "grid_mse.fit(X_train, y_train)\n",
    "\n",
    "print('Score GRF', round(grid_r2.best_score_,2))\n",
    "print('RMSE  GRF in seconds:',round(-grid_mse.best_score_,2))\n",
    "print('RMSE  GRF in days:',round(-grid_mse.best_score_/84600,2))"
   ]
  }
 ],
 "metadata": {
  "kernelspec": {
   "display_name": "Python 3",
   "language": "python",
   "name": "python3"
  },
  "language_info": {
   "codemirror_mode": {
    "name": "ipython",
    "version": 3
   },
   "file_extension": ".py",
   "mimetype": "text/x-python",
   "name": "python",
   "nbconvert_exporter": "python",
   "pygments_lexer": "ipython3",
   "version": "3.8.5"
  }
 },
 "nbformat": 4,
 "nbformat_minor": 2
}
